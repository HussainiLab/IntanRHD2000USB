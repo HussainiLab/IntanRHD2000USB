{
 "cells": [
  {
   "cell_type": "code",
   "execution_count": 4,
   "metadata": {},
   "outputs": [],
   "source": [
    "import numpy as np\n",
    "import sys\n",
    "import os, subprocess"
   ]
  },
  {
   "cell_type": "code",
   "execution_count": 5,
   "metadata": {},
   "outputs": [],
   "source": [
    "def get_clock(Fs):\n",
    "\n",
    "    '''\n",
    "    clk_out = 100 MHz * (M/D) / 2\n",
    "\n",
    "    M must be between 2 and 256\n",
    "    D must be between 1 and 256\n",
    "\n",
    "    Each chip samples all 32 channels + 3 auxiliary channels (temperature, etc, etc)\n",
    "\n",
    "    A Complete SPI cycle takes 80 clock cycles\n",
    "    for each channel + 3 auxilary = 80*(32 + 3) = 2800 clock cycles\n",
    "        \n",
    "    per channel sampling rate (Fs) is 2800 times slower than the clock\n",
    "    \n",
    "    clk_out (MHz) = 2.8 Fs (kHz)\n",
    "    '''\n",
    "    \n",
    "    X = 2.8*(Fs)/50  # M = X*D\n",
    "    \n",
    "    epsilon = 1e-10\n",
    "    \n",
    "    output = np.array([])\n",
    "    \n",
    "    for m in np.arange(2,257):\n",
    "        \n",
    "        d = m/X\n",
    "            \n",
    "        # use an epsilon to account for float rounding errors\n",
    "        mod_d = d % 1\n",
    "        if mod_d <= epsilon and mod_d >= 0:\n",
    "            # this satisfies an over estimated value due to float rounding\n",
    "            if d >= 1 and d <= 256:\n",
    "                if len(output) == 0:\n",
    "                    output = np.array([int(m), int(np.floor(d))])\n",
    "                else:\n",
    "                    output = np.vstack((output, np.array([int(m), int(np.floor(d))])))\n",
    "            \n",
    "        elif mod_d < 1 and mod_d >= 1 - epsilon:\n",
    "            # this is for slight underestimated float rounding\n",
    "            if d >= 1 and d <= 256:\n",
    "                if len(output) == 0:\n",
    "                    output = np.array([int(m), int(np.ceil(d))])\n",
    "                else:\n",
    "                    output = np.vstack((output, np.array([int(m), int(np.ceil(d))])))\n",
    "        \n",
    "    return output, X"
   ]
  },
  {
   "cell_type": "code",
   "execution_count": 8,
   "metadata": {},
   "outputs": [
    {
     "name": "stdout",
     "output_type": "stream",
     "text": [
      "[[ 28  25]\n",
      " [ 56  50]\n",
      " [ 84  75]\n",
      " [112 100]\n",
      " [140 125]\n",
      " [168 150]\n",
      " [196 175]\n",
      " [224 200]\n",
      " [252 225]]\n"
     ]
    }
   ],
   "source": [
    "output, X = get_clock(20)\n",
    "print(output)"
   ]
  },
  {
   "cell_type": "code",
   "execution_count": 57,
   "metadata": {},
   "outputs": [
    {
     "name": "stdout",
     "output_type": "stream",
     "text": [
      "149.99999999999997\n",
      "0.9999999999999716\n"
     ]
    }
   ],
   "source": [
    "X = 2.8*(2.5)/50  # M = X*D\n",
    "d = 21/X\n",
    "print(d)\n",
    "\n",
    "print(d%1)"
   ]
  },
  {
   "cell_type": "markdown",
   "metadata": {},
   "source": [
    "# Adding FPGA values\n",
    "\n",
    "1. Open rhd2000evalboard.cpp\n",
    "2. Calculate the M and D values for a desired sampling frequency using get_clock()\n",
    "3. Add a case for your sampling frequency to setSampleRate with the M and D values that you just calculated.\n",
    "4. Add a case for your sampling frequency to getSampleRate so the proper Fs is provided"
   ]
  },
  {
   "cell_type": "markdown",
   "metadata": {},
   "source": [
    "# Add the SampleRateXXXHz Value\n",
    "1. open rhd2000evalboard.h\n",
    "2. look in the enum AmplifierSampleRate section and add your SampleRate value"
   ]
  },
  {
   "cell_type": "markdown",
   "metadata": {},
   "source": [
    "# Modifying the GUI\n",
    "\n",
    "1. open mainwindow.cpp\n",
    "2. Add your option to the sampleRateComboBox\n",
    "3. Whenever the index value of this combo box is changed it will trigger sampleRateComboBox, so you will need to add a case for your index"
   ]
  },
  {
   "cell_type": "markdown",
   "metadata": {},
   "source": [
    "# Making Static Qt version for Standalone Apps\n",
    "\n",
    "1. get latest open source https://download.qt.io/archive/qt/5.10/5.10.1/single/\n",
    "2. follow these instructions https://wohlsoft.ru/pgewiki/Building_static_Qt_5#Windows"
   ]
  },
  {
   "cell_type": "markdown",
   "metadata": {},
   "source": [
    "# Compiling\n",
    "- Make sure you have the Visual Studio Qt tool installed so you cna get the Qt VS Tools toolbar\n",
    "- Add your Qt version to the Qt Options\n",
    "- Make sure all your code is within a Qt project (can add source files to a solution)\n",
    "- Make sure these Qt Modules are checked in the Qt Project Settings, Core, GUI, Multimedia, and Widgets\n",
    "- add the windeployqt.exe path to your path variables (example: C:\\Qt\\5.11.0\\msvc2017_64\\bin\\windeployqt)\n",
    "    - Note if you have Anaconda3 installed for PyQt, you will have issues with this\n",
    "- Add the appropriate okFrontPanel.dll file to your application directory"
   ]
  },
  {
   "cell_type": "markdown",
   "metadata": {},
   "source": [
    "## Modifying GUI for Settings QLineEdit\n",
    "\n",
    "- open mainwindow.cpp\n",
    "- add the LineEdit to the MainWindow::createLayout()\n",
    "    - make sure you add the name of this LineEdit to mainwindow.h\n",
    "- modify the loadSettings() function and the saveSettings() function to set the text of the LineEdit\n",
    "- Open globelconstants.h and change the version number"
   ]
  },
  {
   "cell_type": "code",
   "execution_count": null,
   "metadata": {},
   "outputs": [],
   "source": []
  }
 ],
 "metadata": {
  "kernelspec": {
   "display_name": "Python 3",
   "language": "python",
   "name": "python3"
  },
  "language_info": {
   "codemirror_mode": {
    "name": "ipython",
    "version": 3
   },
   "file_extension": ".py",
   "mimetype": "text/x-python",
   "name": "python",
   "nbconvert_exporter": "python",
   "pygments_lexer": "ipython3",
   "version": "3.7.0"
  }
 },
 "nbformat": 4,
 "nbformat_minor": 2
}
